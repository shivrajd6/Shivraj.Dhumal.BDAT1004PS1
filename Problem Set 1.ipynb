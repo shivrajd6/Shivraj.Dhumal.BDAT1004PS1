{
 "cells": [
  {
   "cell_type": "markdown",
   "id": "c5cc79f4-80d7-4c32-9a41-d3fae67227c6",
   "metadata": {},
   "source": [
    "## C# Assignment"
   ]
  },
  {
   "cell_type": "markdown",
   "id": "1de79bc6-669a-43d7-933c-22a4a07a9270",
   "metadata": {},
   "source": [
    "### Answer to Question 1"
   ]
  },
  {
   "cell_type": "markdown",
   "id": "98bdbe8d-2eef-4774-ad42-8d7b522cf754",
   "metadata": {},
   "source": [
    "##### 5 is of data type Int or Integer\n",
    "##### 5.0 is of data type Double\n",
    "##### \"5\" is of data type String\n",
    "##### 5 * 2 is of type Integer\n",
    "##### \"5\" * 2 is not a valid type as a string can't be multiplied with an Integer\n",
    "##### \"5\" + \"2\" is of type string\n",
    "##### 5/2 is of type Integer\n",
    "##### 5%2 is of type Integer\n",
    "##### {5,2,1} is of List data type\n",
    "##### 5 == 3 is of type Boolean\n",
    "##### Pi the number is of Double data type"
   ]
  },
  {
   "cell_type": "code",
   "execution_count": 18,
   "id": "8964e8d9-45a2-4766-9bf9-4a8a7c2a074d",
   "metadata": {},
   "outputs": [
    {
     "name": "stdout",
     "output_type": "stream",
     "text": [
      "System.Int32\n",
      "System.Double\n",
      "System.Boolean\n",
      "System.String\n",
      "System.Int32\n"
     ]
    }
   ],
   "source": [
    "object a = 5;\n",
    "Console.WriteLine(a.GetType());\n",
    "    \n",
    "object b = 5.0;\n",
    "Console.WriteLine(b.GetType());\n",
    "\n",
    "object c = 5>1;\n",
    "Console.WriteLine(c.GetType());\n",
    "\n",
    "object d = \"5\";\n",
    "Console.WriteLine(d.GetType());\n",
    "\n",
    "object e = 5*2;\n",
    "Console.WriteLine(e.GetType());"
   ]
  },
  {
   "cell_type": "code",
   "execution_count": 137,
   "id": "dd176655-4218-40c0-b8ad-26913b9aa0bb",
   "metadata": {},
   "outputs": [
    {
     "ename": "Unhandled Exception",
     "evalue": "(1,12): error CS0019: Operator '*' cannot be applied to operands of type 'string' and 'int'",
     "output_type": "error",
     "traceback": [
      "(1,12): error CS0019: Operator '*' cannot be applied to operands of type 'string' and 'int'"
     ]
    }
   ],
   "source": [
    "object f = \"5\" * 2;\n",
    "Console.WriteLine(f.GetType());"
   ]
  },
  {
   "cell_type": "code",
   "execution_count": 138,
   "id": "161f4eb5-1d03-46e6-8ec1-e2a38beb8191",
   "metadata": {},
   "outputs": [
    {
     "name": "stdout",
     "output_type": "stream",
     "text": [
      "System.String\n"
     ]
    }
   ],
   "source": [
    "object g = \"5\" + \"2\";\n",
    "Console.WriteLine(g.GetType());"
   ]
  },
  {
   "cell_type": "code",
   "execution_count": 139,
   "id": "947f95a8-a9bc-4f7c-9a02-e5307361505a",
   "metadata": {},
   "outputs": [
    {
     "name": "stdout",
     "output_type": "stream",
     "text": [
      "System.Int32\n"
     ]
    }
   ],
   "source": [
    "object h = 5/2;\n",
    "Console.WriteLine(h.GetType());"
   ]
  },
  {
   "cell_type": "code",
   "execution_count": 140,
   "id": "71614eb4-d691-4af1-a163-e9ec2f11b3e0",
   "metadata": {},
   "outputs": [
    {
     "name": "stdout",
     "output_type": "stream",
     "text": [
      "System.Int32\n"
     ]
    }
   ],
   "source": [
    "object i = 5%2;\n",
    "Console.WriteLine(i.GetType());"
   ]
  },
  {
   "cell_type": "code",
   "execution_count": 141,
   "id": "38c600ba-1742-46d8-99ba-02450cca76dd",
   "metadata": {},
   "outputs": [
    {
     "ename": "Unhandled Exception",
     "evalue": "(1,12): error CS0622: Can only use array initializer expressions to assign to array types. Try using a new expression instead.",
     "output_type": "error",
     "traceback": [
      "(1,12): error CS0622: Can only use array initializer expressions to assign to array types. Try using a new expression instead."
     ]
    }
   ],
   "source": [
    "object j = {5,2,1};\n",
    "Console.WriteLine(j.GetType());"
   ]
  },
  {
   "cell_type": "code",
   "execution_count": 26,
   "id": "013e6bf0-3e80-4f41-865d-8cfaab4092f4",
   "metadata": {},
   "outputs": [
    {
     "name": "stdout",
     "output_type": "stream",
     "text": [
      "System.Double\n"
     ]
    }
   ],
   "source": [
    "Console.WriteLine(Math.PI.GetType())"
   ]
  },
  {
   "cell_type": "markdown",
   "id": "ce14acf6-4a2c-4034-9ee5-2ae7fe0d6eeb",
   "metadata": {},
   "source": [
    "### Answer to question 2"
   ]
  },
  {
   "cell_type": "markdown",
   "id": "ce359755-16d0-4fa2-a500-f49aab0113a2",
   "metadata": {},
   "source": [
    "#### a."
   ]
  },
  {
   "cell_type": "code",
   "execution_count": 33,
   "id": "289160dd-926b-4ff3-8141-f17b07d2ec6b",
   "metadata": {},
   "outputs": [
    {
     "name": "stdout",
     "output_type": "stream",
     "text": [
      "There are: 34 letters in the string Supercalifragilisticexpialidocious\n"
     ]
    }
   ],
   "source": [
    "String a = \"Supercalifragilisticexpialidocious\";\n",
    "int numberofletters = a.Length;\n",
    "Console.WriteLine($\"There are: {numberofletters} letters in the string {a}\");"
   ]
  },
  {
   "cell_type": "markdown",
   "id": "7fbd9560-d4e7-406d-9c1b-452a7a0e62b4",
   "metadata": {},
   "source": [
    "##### There are: 34 letters in the string Supercalifragilisticexpialidocious"
   ]
  },
  {
   "cell_type": "markdown",
   "id": "f06f0f09-3337-4e80-bfc9-379a2ecf9ae1",
   "metadata": {},
   "source": [
    "#### b."
   ]
  },
  {
   "cell_type": "code",
   "execution_count": 37,
   "id": "72f1f53e-583a-4b35-bc51-5450773622ae",
   "metadata": {},
   "outputs": [
    {
     "name": "stdout",
     "output_type": "stream",
     "text": [
      "The string ice is in the string Supercalifragilisticexpialidocious\n"
     ]
    }
   ],
   "source": [
    "String big = \"Supercalifragilisticexpialidocious\";\n",
    "String small = \"ice\";\n",
    "if(big.Contains(small)){\n",
    "    Console.WriteLine($\"The string {small} is in the string {big}\");\n",
    "}\n",
    "else{\n",
    "    Console.WriteLine($\"The string {small} is not in the string {big}\");\n",
    "}"
   ]
  },
  {
   "cell_type": "markdown",
   "id": "3c631a2d-1069-4566-adf4-3fe6c6ac521b",
   "metadata": {},
   "source": [
    "##### The string ice is in the string Supercalifragilisticexpialidocious"
   ]
  },
  {
   "cell_type": "markdown",
   "id": "fd8888da-c83a-451a-8a28-bad0cfd6d6e2",
   "metadata": {},
   "source": [
    "#### c."
   ]
  },
  {
   "cell_type": "code",
   "execution_count": 39,
   "id": "6d789f7d-07bc-4a1a-afc1-77acc04c29b4",
   "metadata": {},
   "outputs": [
    {
     "name": "stdout",
     "output_type": "stream",
     "text": [
      "str1 length : 34\n",
      "str2 length : 27\n",
      "str3 length : 34\n"
     ]
    }
   ],
   "source": [
    "String str1 = \"Supercalifragilisticexpialidocious\";\n",
    "String str2 = \"Honorificabilitudinitatibus\";\n",
    "String str3 = \"Bababadalgharaghtakamminarronnkonn\";\n",
    "Console.WriteLine($\"str1 length : {str1.Length}\");\n",
    "Console.WriteLine($\"str2 length : {str2.Length}\");\n",
    "Console.WriteLine($\"str3 length : {str3.Length}\");"
   ]
  },
  {
   "cell_type": "markdown",
   "id": "8ee15a44-ae9b-46b3-a004-246e5292153a",
   "metadata": {},
   "source": [
    "##### The strings Supercalifragilisticexpialidocious and \n",
    "##### Bababadalgharaghtakamminarronnkonn are the longest with 34 characters each"
   ]
  },
  {
   "cell_type": "markdown",
   "id": "c07b65df-4ed3-4580-85ea-b7ec88c31ca5",
   "metadata": {},
   "source": [
    "#### d."
   ]
  },
  {
   "cell_type": "code",
   "execution_count": 43,
   "id": "5f68c0fc-80e6-4b22-a123-33f8b6a62548",
   "metadata": {},
   "outputs": [],
   "source": [
    "var composers = new List<String>(new[] {\"Berlioz\", \"Borodin\", \"Brian\",\n",
    "\"Bartok\", \"Bellini\", \"Buxtehude\", \"Bernstein\"});"
   ]
  },
  {
   "cell_type": "code",
   "execution_count": 48,
   "id": "532f1b6c-d036-46fc-8d13-f6621d9175a6",
   "metadata": {},
   "outputs": [],
   "source": [
    "composers.Sort();"
   ]
  },
  {
   "cell_type": "code",
   "execution_count": 50,
   "id": "76f401cf-2d8c-4d56-be25-e1c9f5046c30",
   "metadata": {},
   "outputs": [
    {
     "name": "stdout",
     "output_type": "stream",
     "text": [
      "Bartok\n",
      "Bellini\n",
      "Berlioz\n",
      "Bernstein\n",
      "Borodin\n",
      "Brian\n",
      "Buxtehude\n"
     ]
    }
   ],
   "source": [
    "foreach (string c in composers){\n",
    "    Console.WriteLine(c);\n",
    "}"
   ]
  },
  {
   "cell_type": "markdown",
   "id": "f3df1b37-5208-4968-83e5-312e157228ba",
   "metadata": {},
   "source": [
    "##### The composer 'Bartok' comes first in the dictionary"
   ]
  },
  {
   "cell_type": "markdown",
   "id": "57929826-00e3-4ecb-827f-2d40a3c47f2a",
   "metadata": {},
   "source": [
    "### Answer to question 3"
   ]
  },
  {
   "cell_type": "code",
   "execution_count": 92,
   "id": "b06dce8c-ef39-4891-a441-49e3d37bf1d5",
   "metadata": {},
   "outputs": [],
   "source": [
    "public void triangleArea(int a, int b, int c)\n",
    "{\n",
    "    double s = (a + b + c) / 2;\n",
    "    /*Console.WriteLine(s);*/\n",
    "    double area = (s*(s-a)*(s-b)*(s-c));\n",
    "    area = Math.Sqrt(area);\n",
    "    Console.WriteLine(area);\n",
    "}"
   ]
  },
  {
   "cell_type": "code",
   "execution_count": 93,
   "id": "1d4d97b1-a0eb-4dda-9fe0-ed4c61a36668",
   "metadata": {},
   "outputs": [
    {
     "name": "stdout",
     "output_type": "stream",
     "text": [
      "1.7320508075688772\n"
     ]
    }
   ],
   "source": [
    "triangleArea(2,2,2);"
   ]
  },
  {
   "cell_type": "markdown",
   "id": "99268886-e06d-41c8-9255-6451eb6a3cc2",
   "metadata": {},
   "source": [
    "### Answer to question 4"
   ]
  },
  {
   "cell_type": "markdown",
   "id": "ffb16c1d-0c77-4e1a-8dbc-8227d4397325",
   "metadata": {},
   "source": [
    "##### The following code was written in a class file on the visual code software and then the function was called from the main file.\n",
    "##### The console showed the ouput as follows:"
   ]
  },
  {
   "cell_type": "code",
   "execution_count": 114,
   "id": "deeb2fd6-b137-41f8-acef-6889c410793e",
   "metadata": {},
   "outputs": [],
   "source": [
    "/*\n",
    "Separate odd and even integers in separate arrays:\n",
    "------------------------------------------------------\n",
    "Input the number of elements to be stored in the array :5\n",
    "Input 5 elements in the array :\n",
    "element - 0 : 10\n",
    "element - 1 : 11\n",
    "element - 2 : 12\n",
    "element - 3 : 13\n",
    "element - 4 : 14\n",
    "\n",
    "The Even elements are :\n",
    "10 12 14\n",
    "The Odd elements are :\n",
    "11 13\n",
    "*/"
   ]
  },
  {
   "cell_type": "code",
   "execution_count": 115,
   "id": "4a75e2d4-40cd-429f-bb87-a8aa46038ab5",
   "metadata": {},
   "outputs": [],
   "source": [
    "public void splitIntoEvenAndOdd()\n",
    "{\n",
    "    int[] arr1 = new int[10];\n",
    "    int[] arr2 = new int[10];\n",
    "    int[] arr3 = new int[10];\n",
    "    int i, j = 0, k = 0, n;\n",
    "\n",
    "\n",
    "    Console.Write(\"\\n\\nSeparate odd and even integers in separate arrays:\\n\");\n",
    "    Console.Write(\"------------------------------------------------------\\n\");\n",
    "\n",
    "    Console.Write(\"Input the number of elements to be stored in the array :\");\n",
    "    n = Convert.ToInt32(Console.ReadLine());\n",
    "\n",
    "    Console.Write(\"Input {0} elements in the array :\\n\", n);\n",
    "    for (i = 0; i < n; i++)\n",
    "    {\n",
    "        Console.Write(\"element - {0} : \", i);\n",
    "        arr1[i] = Convert.ToInt32(Console.ReadLine());\n",
    "    }\n",
    "\n",
    "    for (i = 0; i < n; i++)\n",
    "    {\n",
    "        if (arr1[i] % 2 == 0)\n",
    "        {\n",
    "            arr2[j] = arr1[i];\n",
    "            j++;\n",
    "        }\n",
    "        else\n",
    "        {\n",
    "            arr3[k] = arr1[i];\n",
    "            k++;\n",
    "        }\n",
    "    }\n",
    "\n",
    "    Console.Write(\"\\nThe Even elements are : \\n\");\n",
    "    for (i = 0; i < j; i++)\n",
    "    {\n",
    "        Console.Write(\"{0} \", arr2[i]);\n",
    "    }\n",
    "\n",
    "    Console.Write(\"\\nThe Odd elements are :\\n\");\n",
    "    for (i = 0; i < k; i++)\n",
    "    {\n",
    "        Console.Write(\"{0} \", arr3[i]);\n",
    "    }\n",
    "    Console.Write(\"\\n\\n\");\n",
    "}"
   ]
  },
  {
   "cell_type": "markdown",
   "id": "0c6473e9-2fa3-40fc-ad9c-f2ab92b8f10d",
   "metadata": {},
   "source": [
    "### Answer to question 5"
   ]
  },
  {
   "cell_type": "code",
   "execution_count": 123,
   "id": "754c07fd-8cc0-446b-9891-f42c1f7b3d4b",
   "metadata": {},
   "outputs": [],
   "source": [
    "public bool inside(double px, double py, double x1, double y1, double x2, double y2)\n",
    "{\n",
    "    return px >= x1 && px <= x2 && py >= y1 && py <= y2;\n",
    "}"
   ]
  },
  {
   "cell_type": "code",
   "execution_count": 126,
   "id": "9255a66b-b379-4748-bb04-1933565c2907",
   "metadata": {},
   "outputs": [
    {
     "data": {
      "text/plain": [
       "True"
      ]
     },
     "execution_count": 126,
     "metadata": {},
     "output_type": "execute_result"
    }
   ],
   "source": [
    "inside(1,1,0,0,2,3)"
   ]
  },
  {
   "cell_type": "code",
   "execution_count": 127,
   "id": "06e80772-79f2-485b-97c7-cb78dc764c50",
   "metadata": {},
   "outputs": [
    {
     "data": {
      "text/plain": [
       "False"
      ]
     },
     "execution_count": 127,
     "metadata": {},
     "output_type": "execute_result"
    }
   ],
   "source": [
    "inside(-1,-1,0,0,2,3)"
   ]
  },
  {
   "cell_type": "code",
   "execution_count": 135,
   "id": "c9e7b15c-baff-4e57-8731-ad0f54632347",
   "metadata": {},
   "outputs": [],
   "source": [
    "bool bothrect = inside(1,1,0.3, 0.5,1.1, 0.7) && inside(1,1,0.5, 0.2, 1.1, 2);"
   ]
  },
  {
   "cell_type": "code",
   "execution_count": 136,
   "id": "a03ffa00-7834-477b-a8eb-44f389fd977b",
   "metadata": {},
   "outputs": [
    {
     "data": {
      "text/plain": [
       "False"
      ]
     },
     "execution_count": 136,
     "metadata": {},
     "output_type": "execute_result"
    }
   ],
   "source": [
    "bothrect"
   ]
  },
  {
   "cell_type": "markdown",
   "id": "e4230660-24a2-4315-aad8-6d6afaa895a3",
   "metadata": {},
   "source": [
    "##### The point (1,1) doesn't lie in both the rectangles at the same time."
   ]
  },
  {
   "cell_type": "markdown",
   "id": "cacb0178-ce64-444f-b96f-ed23a7f6fd0a",
   "metadata": {},
   "source": [
    "## Python assignment"
   ]
  },
  {
   "cell_type": "markdown",
   "id": "f868f510-15d2-4b4d-bbe7-a7b3c0a3f79d",
   "metadata": {},
   "source": [
    "### Answer to question 6"
   ]
  },
  {
   "cell_type": "code",
   "execution_count": 3,
   "id": "0dff646a-6b46-4043-b2a4-223c3f1c72eb",
   "metadata": {},
   "outputs": [],
   "source": [
    "def pig(word):\n",
    "    if word[0].lower() in ('a','e','i','o','u'):\n",
    "        word = word.lower()\n",
    "        word = word + \"way\"\n",
    "    else:\n",
    "        first_letter = word[0]\n",
    "        word = word[1:]\n",
    "        word = word + first_letter + \"ay\"\n",
    "    return word"
   ]
  },
  {
   "cell_type": "code",
   "execution_count": 4,
   "id": "af97d3f1-3688-4bf0-9130-f907397c361b",
   "metadata": {},
   "outputs": [
    {
     "data": {
      "text/plain": [
       "'appyhay'"
      ]
     },
     "execution_count": 4,
     "metadata": {},
     "output_type": "execute_result"
    }
   ],
   "source": [
    "pig(\"happy\")"
   ]
  },
  {
   "cell_type": "code",
   "execution_count": 5,
   "id": "06ea07d6-1e99-487a-853a-27268df8140f",
   "metadata": {},
   "outputs": [
    {
     "data": {
      "text/plain": [
       "'enterway'"
      ]
     },
     "execution_count": 5,
     "metadata": {},
     "output_type": "execute_result"
    }
   ],
   "source": [
    "pig('Enter')"
   ]
  },
  {
   "cell_type": "markdown",
   "id": "276d9a01-7932-4ad3-91bd-c4cb24aeafea",
   "metadata": {},
   "source": [
    "### Answer to question 7"
   ]
  },
  {
   "cell_type": "code",
   "execution_count": 15,
   "id": "a01c01e3-f9c8-4996-9869-28addad43f8d",
   "metadata": {},
   "outputs": [],
   "source": [
    "def bldcount(filename):\n",
    "    fh = open(filename)\n",
    "    bloodcounts = fh.readline()\n",
    "    bloodcounts = bloodcounts.strip()\n",
    "    bloodgroups_list = bloodcounts.split(' ')\n",
    "    # print(bloodgroups_list)\n",
    "    \n",
    "    bloodgroup_dict = dict()\n",
    "    full_list = ['A', 'B', 'AB', 'O', 'OO']\n",
    "    for blood_group in bloodgroups_list:\n",
    "        if blood_group in bloodgroup_dict.keys():\n",
    "            bloodgroup_dict[blood_group] += 1\n",
    "        else:\n",
    "            bloodgroup_dict[blood_group] = 1\n",
    "            \n",
    "    for blood_group in full_list:\n",
    "        if blood_group not in bloodgroup_dict.keys():\n",
    "            bloodgroup_dict[blood_group] = 0\n",
    "            \n",
    "    for key, val in bloodgroup_dict.items():\n",
    "        if val == 0:\n",
    "            print(f\"There are no patients of blood type {key}\")\n",
    "        elif val == 1:\n",
    "            print(f\"There is one patient of blood type {key}\")\n",
    "        elif val > 1:\n",
    "            print(f\"There are {val} patients of blood type {key}\")"
   ]
  },
  {
   "cell_type": "code",
   "execution_count": 16,
   "id": "14912183-808f-4641-a7a6-d7cfec09ac2a",
   "metadata": {},
   "outputs": [
    {
     "name": "stdout",
     "output_type": "stream",
     "text": [
      "There are 13 patients of blood type AB\n",
      "There is one patient of blood type B\n",
      "There are 15 patients of blood type O\n",
      "There are 15 patients of blood type A\n",
      "There are no patients of blood type OO\n"
     ]
    }
   ],
   "source": [
    "bldcount('bloodtype1.txt')"
   ]
  },
  {
   "cell_type": "markdown",
   "id": "706d9159-b7cb-4233-9dd6-7363d536900e",
   "metadata": {},
   "source": [
    "### Answer to Question 8"
   ]
  },
  {
   "cell_type": "code",
   "execution_count": 71,
   "id": "37d26a83-7726-49ba-a4db-e94ffe835fb1",
   "metadata": {},
   "outputs": [],
   "source": [
    "def curconv(currency, amount):\n",
    "    fh = open('currencies.txt')\n",
    "    datalines = fh.readlines()\n",
    "    \n",
    "    converted_amount = None\n",
    "    for dataline in datalines:\n",
    "        dataline = dataline.strip()\n",
    "        linelist = dataline.split('\\t')\n",
    "        # print(linelist)\n",
    "        \n",
    "        # print(f'checking if {currency} and {linelist[0]} are same')\n",
    "        if currency == linelist[0]:\n",
    "            # print('found')\n",
    "            convrate = linelist[1]\n",
    "            # print(f'conversion rate is: {type(float(convrate))}')\n",
    "            converted_amount = amount * float(convrate)\n",
    "            # print(converted_amount)\n",
    "        \n",
    "        if converted_amount is not None:\n",
    "            break\n",
    "    print(converted_amount)"
   ]
  },
  {
   "cell_type": "code",
   "execution_count": 72,
   "id": "eaf5a22a-df4c-46b3-becf-c83faee498a5",
   "metadata": {},
   "outputs": [
    {
     "name": "stdout",
     "output_type": "stream",
     "text": [
      "122.96544\n"
     ]
    }
   ],
   "source": [
    "curconv('EUR',100)"
   ]
  },
  {
   "cell_type": "code",
   "execution_count": 73,
   "id": "48fb3b5c-f716-4fcb-9071-f67e23ddcfa1",
   "metadata": {},
   "outputs": [
    {
     "name": "stdout",
     "output_type": "stream",
     "text": [
      "1.241401\n"
     ]
    }
   ],
   "source": [
    "curconv('JPY', 100)"
   ]
  },
  {
   "cell_type": "markdown",
   "id": "6c29607e-f97b-4b7e-87dc-4712228973ee",
   "metadata": {},
   "source": [
    "### Answer to Question 9"
   ]
  },
  {
   "cell_type": "code",
   "execution_count": 75,
   "id": "66e10854-6ef9-410f-919c-1a0e2d68886b",
   "metadata": {},
   "outputs": [
    {
     "ename": "TypeError",
     "evalue": "unsupported operand type(s) for +: 'int' and 'str'",
     "output_type": "error",
     "traceback": [
      "\u001b[1;31m---------------------------------------------------------------------------\u001b[0m",
      "\u001b[1;31mTypeError\u001b[0m                                 Traceback (most recent call last)",
      "\u001b[1;32m~\\AppData\\Local\\Temp\\ipykernel_5736\\55046823.py\u001b[0m in \u001b[0;36m<module>\u001b[1;34m\u001b[0m\n\u001b[1;32m----> 1\u001b[1;33m \u001b[1;36m6\u001b[0m \u001b[1;33m+\u001b[0m \u001b[1;34m'a'\u001b[0m\u001b[1;33m\u001b[0m\u001b[1;33m\u001b[0m\u001b[0m\n\u001b[0m",
      "\u001b[1;31mTypeError\u001b[0m: unsupported operand type(s) for +: 'int' and 'str'"
     ]
    }
   ],
   "source": [
    "6 + 'a'"
   ]
  },
  {
   "cell_type": "markdown",
   "id": "de9ba729-82f3-46b7-8f18-0a84ee858746",
   "metadata": {},
   "source": [
    "##### TypeError: unsupported operand type(s) for +: 'int' and 'str'"
   ]
  },
  {
   "cell_type": "code",
   "execution_count": 76,
   "id": "40e39974-4a89-4df1-8b2b-4bba9c259140",
   "metadata": {},
   "outputs": [
    {
     "ename": "IndexError",
     "evalue": "list index out of range",
     "output_type": "error",
     "traceback": [
      "\u001b[1;31m---------------------------------------------------------------------------\u001b[0m",
      "\u001b[1;31mIndexError\u001b[0m                                Traceback (most recent call last)",
      "\u001b[1;32m~\\AppData\\Local\\Temp\\ipykernel_5736\\2924372205.py\u001b[0m in \u001b[0;36m<module>\u001b[1;34m\u001b[0m\n\u001b[0;32m      1\u001b[0m \u001b[0ma\u001b[0m \u001b[1;33m=\u001b[0m \u001b[1;33m[\u001b[0m\u001b[1;36m0\u001b[0m\u001b[1;33m,\u001b[0m\u001b[1;36m1\u001b[0m\u001b[1;33m,\u001b[0m\u001b[1;36m2\u001b[0m\u001b[1;33m]\u001b[0m\u001b[1;33m\u001b[0m\u001b[1;33m\u001b[0m\u001b[0m\n\u001b[1;32m----> 2\u001b[1;33m \u001b[0ma\u001b[0m\u001b[1;33m[\u001b[0m\u001b[1;36m3\u001b[0m\u001b[1;33m]\u001b[0m\u001b[1;33m\u001b[0m\u001b[1;33m\u001b[0m\u001b[0m\n\u001b[0m",
      "\u001b[1;31mIndexError\u001b[0m: list index out of range"
     ]
    }
   ],
   "source": [
    "a = [0,1,2]\n",
    "a[3]"
   ]
  },
  {
   "cell_type": "markdown",
   "id": "e8517e9a-9f33-4a75-8f23-f0b8717a5992",
   "metadata": {},
   "source": [
    "##### IndexError: list index out of range"
   ]
  },
  {
   "cell_type": "code",
   "execution_count": 80,
   "id": "774fdf22-d6d7-42d3-8707-869944c5c98c",
   "metadata": {},
   "outputs": [],
   "source": [
    "import math"
   ]
  },
  {
   "cell_type": "code",
   "execution_count": 83,
   "id": "7a6a7310-abc9-440c-ba2d-ac7777338f8a",
   "metadata": {},
   "outputs": [
    {
     "ename": "ValueError",
     "evalue": "math domain error",
     "output_type": "error",
     "traceback": [
      "\u001b[1;31m---------------------------------------------------------------------------\u001b[0m",
      "\u001b[1;31mValueError\u001b[0m                                Traceback (most recent call last)",
      "\u001b[1;32m~\\AppData\\Local\\Temp\\ipykernel_5736\\2508052996.py\u001b[0m in \u001b[0;36m<module>\u001b[1;34m\u001b[0m\n\u001b[1;32m----> 1\u001b[1;33m \u001b[0mmath\u001b[0m\u001b[1;33m.\u001b[0m\u001b[0msqrt\u001b[0m\u001b[1;33m(\u001b[0m\u001b[1;33m-\u001b[0m\u001b[1;36m1.0\u001b[0m\u001b[1;33m)\u001b[0m\u001b[1;33m\u001b[0m\u001b[1;33m\u001b[0m\u001b[0m\n\u001b[0m",
      "\u001b[1;31mValueError\u001b[0m: math domain error"
     ]
    }
   ],
   "source": [
    "math.sqrt(-1.0)"
   ]
  },
  {
   "cell_type": "markdown",
   "id": "39d94be1-40a1-406a-b27f-9b94ebe44857",
   "metadata": {},
   "source": [
    "##### ValueError: math domain error"
   ]
  },
  {
   "cell_type": "code",
   "execution_count": 84,
   "id": "ec7eba8a-5138-4143-b221-e69414c1ac2b",
   "metadata": {},
   "outputs": [
    {
     "ename": "NameError",
     "evalue": "name 'x' is not defined",
     "output_type": "error",
     "traceback": [
      "\u001b[1;31m---------------------------------------------------------------------------\u001b[0m",
      "\u001b[1;31mNameError\u001b[0m                                 Traceback (most recent call last)",
      "\u001b[1;32m~\\AppData\\Local\\Temp\\ipykernel_5736\\1353120783.py\u001b[0m in \u001b[0;36m<module>\u001b[1;34m\u001b[0m\n\u001b[1;32m----> 1\u001b[1;33m \u001b[0mprint\u001b[0m\u001b[1;33m(\u001b[0m\u001b[0mx\u001b[0m\u001b[1;33m)\u001b[0m\u001b[1;33m\u001b[0m\u001b[1;33m\u001b[0m\u001b[0m\n\u001b[0m",
      "\u001b[1;31mNameError\u001b[0m: name 'x' is not defined"
     ]
    }
   ],
   "source": [
    "print(x)"
   ]
  },
  {
   "cell_type": "markdown",
   "id": "1a3ee74c-d6be-431b-a64a-046b14f62a78",
   "metadata": {},
   "source": [
    "##### NameError: name 'x' is not defined"
   ]
  },
  {
   "cell_type": "code",
   "execution_count": 85,
   "id": "54150907-d74a-422d-922a-f82419d34671",
   "metadata": {},
   "outputs": [
    {
     "ename": "FileNotFoundError",
     "evalue": "[Errno 2] No such file or directory: 'filethatdoesntexist.txt'",
     "output_type": "error",
     "traceback": [
      "\u001b[1;31m---------------------------------------------------------------------------\u001b[0m",
      "\u001b[1;31mFileNotFoundError\u001b[0m                         Traceback (most recent call last)",
      "\u001b[1;32m~\\AppData\\Local\\Temp\\ipykernel_5736\\583383074.py\u001b[0m in \u001b[0;36m<module>\u001b[1;34m\u001b[0m\n\u001b[1;32m----> 1\u001b[1;33m \u001b[0mfh\u001b[0m \u001b[1;33m=\u001b[0m \u001b[0mopen\u001b[0m\u001b[1;33m(\u001b[0m\u001b[1;34m'filethatdoesntexist.txt'\u001b[0m\u001b[1;33m)\u001b[0m\u001b[1;33m\u001b[0m\u001b[1;33m\u001b[0m\u001b[0m\n\u001b[0m",
      "\u001b[1;31mFileNotFoundError\u001b[0m: [Errno 2] No such file or directory: 'filethatdoesntexist.txt'"
     ]
    }
   ],
   "source": [
    "fh = open('filethatdoesntexist.txt')"
   ]
  },
  {
   "cell_type": "markdown",
   "id": "70e31d63-5c7f-406d-9190-d2dbc1d4e668",
   "metadata": {},
   "source": [
    "##### FileNotFoundError: [Errno 2] No such file or directory: 'filethatdoesntexist.txt'"
   ]
  },
  {
   "cell_type": "markdown",
   "id": "d44bbbc6-61ec-4ddd-93e9-5efb063d8903",
   "metadata": {},
   "source": [
    "### Answer to Question 10"
   ]
  },
  {
   "cell_type": "code",
   "execution_count": 89,
   "id": "10998568-dff0-465e-962e-1a7e98725933",
   "metadata": {},
   "outputs": [],
   "source": [
    "letters = \"abcdefghijklmnopqrstuvwxyz\"\n",
    "def frequencies(statement):\n",
    "    letter_freq = dict()\n",
    "    for c in statement:\n",
    "        c = c.lower()\n",
    "        if c in letters:\n",
    "            if c in letter_freq.keys():\n",
    "                letter_freq[c] += 1\n",
    "            else:\n",
    "                letter_freq[c] = 1\n",
    "    \n",
    "    freq_list = list()\n",
    "    for l in letters:\n",
    "        if l in letter_freq.keys():\n",
    "            freq_list.append(letter_freq[l])\n",
    "        else:\n",
    "            freq_list.append(0)\n",
    "    \n",
    "    print(freq_list)"
   ]
  },
  {
   "cell_type": "code",
   "execution_count": 90,
   "id": "18e3ebff-e520-4f97-a21b-ab0e0a7e820e",
   "metadata": {},
   "outputs": [
    {
     "name": "stdout",
     "output_type": "stream",
     "text": [
      "[1, 1, 1, 3, 5, 1, 1, 2, 1, 0, 1, 0, 1, 2, 4, 0, 1, 2, 0, 3, 1, 0, 1, 1, 0, 0]\n"
     ]
    }
   ],
   "source": [
    "frequencies(\"The quick red fox got bored and went home.\")"
   ]
  },
  {
   "cell_type": "code",
   "execution_count": 91,
   "id": "66a735cf-1a84-495a-a0b0-5ed64a8ca38c",
   "metadata": {},
   "outputs": [
    {
     "name": "stdout",
     "output_type": "stream",
     "text": [
      "[1, 0, 0, 0, 1, 0, 0, 0, 0, 0, 0, 1, 0, 0, 0, 2, 0, 0, 0, 0, 0, 0, 0, 0, 0, 0]\n"
     ]
    }
   ],
   "source": [
    "frequencies(\"apple\")"
   ]
  },
  {
   "cell_type": "code",
   "execution_count": 93,
   "id": "b45e5e62-48f1-45ca-a6fa-0710f19446b3",
   "metadata": {},
   "outputs": [],
   "source": [
    "# References:\n",
    "#https://www.codecademy.com/resources/docs/c-sharp/math-functions/sqrt\n",
    "#https://www.w3resource.com/csharp-exercises/array/csharp-array-exercise-10.php\n",
    "#https://programming-idioms.org/idiom/178/check-if-point-is-inside-rectangle"
   ]
  },
  {
   "cell_type": "code",
   "execution_count": null,
   "id": "249a8a71-06c5-46c2-ac6f-8ec9fc03dd12",
   "metadata": {},
   "outputs": [],
   "source": []
  }
 ],
 "metadata": {
  "kernelspec": {
   "display_name": "Python 3 (ipykernel)",
   "language": "python",
   "name": "python3"
  },
  "language_info": {
   "codemirror_mode": {
    "name": "ipython",
    "version": 3
   },
   "file_extension": ".py",
   "mimetype": "text/x-python",
   "name": "python",
   "nbconvert_exporter": "python",
   "pygments_lexer": "ipython3",
   "version": "3.9.13"
  }
 },
 "nbformat": 4,
 "nbformat_minor": 5
}
